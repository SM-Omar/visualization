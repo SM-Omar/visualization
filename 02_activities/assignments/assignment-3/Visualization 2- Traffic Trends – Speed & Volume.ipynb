{
 "cells": [
  {
   "cell_type": "markdown",
   "metadata": {},
   "source": [
    "Assignment 3: Final Project\n",
    "Dataset Selection\n",
    "\n",
    "For this project, I selected the Traffic Volumes – Midblock Vehicle Speed, Volume, and Classification Counts dataset from the City of Toronto’s Open Data Portal. This dataset contains information on vehicle speed, volume, and classification across various midblock locations in Toronto. \n",
    "\n",
    "https://open.toronto.ca/dataset/traffic-volumes-midblock-vehicle-speed-volume-and-classification-counts/\n"
   ]
  },
  {
   "cell_type": "markdown",
   "metadata": {},
   "source": [
    "Visualization 2: Toronto Traffic Trends – Speed & Volume Insights (2020–2024)\n",
    "\n",
    "1. Software Used:\n",
    "\n",
    "Tableau Public.\n",
    "\n",
    "2. Intended Audience:\n",
    "\n",
    "A. Toronto Residents, Urban Planners, and Local Businesses interested in identifying high-traffic zones.\n",
    "B. Policy Makers aiming to address congestion hotspots.\n",
    "\n",
    "3. Key Message:\n",
    "\n",
    "This visualization is grid-style “heatmap” in Tableau highlights areas in Toronto with the highest vehicle traffic. Users can identify congestion hotspots, which aids in city planning, business location decisions, and traffic management.\n",
    "\n",
    "4. Design Principles:\n",
    "\n",
    "A. Substantive: The visualization is rooted in real-world traffic data, focusing on spatial relevance.\n",
    "B. Perceptual: A colour gradient clearly distinguishes between low and high traffic density.\n",
    "\n",
    "5. Ensuring Reproducibility:\n",
    "\n",
    "Tableau Public does not allow full script-based reproducibility. However, I documented all data cleaning and transformation steps in the python code, so others can follow the same workflow to replicate or adapt the visualization.\n",
    "\n",
    "6. Accessibility:\n",
    "\n",
    "A. An accessible colour gradient was selected to accommodate colour-blind users.\n",
    "B. Hover tooltips provide extra data for users who need detailed information.\n",
    "C. Hosting on Tableau Public broadens availability and supports screen-reader text alternatives.\n",
    "\n",
    "7. Impacted Communities:\n",
    "\n",
    "A. Commuters can use the heatmap to plan routes and avoid congestion.\n",
    "B. Businesses can make data-driven decisions about where to locate stores or services.\n",
    "C. City Officials can pinpoint priority areas for infrastructure improvements.\n",
    "\n",
    "8. Data Inclusion/Exclusion: \n",
    "I prioritized intersections with consistently high traffic volumes for clarity. Locations with sparse or inconsistent data were excluded to maintain a concise map.\n",
    "\n",
    "9. Underwater Labour:\n",
    "\n",
    "A. Choosing an effective colour scheme for volume intensity.\n",
    "B. Experimenting with different styles in Tableau to maximize clarity."
   ]
  },
  {
   "cell_type": "markdown",
   "metadata": {},
   "source": [
    "Appendix:\n",
    "1. Appendix2 Toronto Traﬃc Trends Tableau.pdf\n",
    "https://public.tableau.com/views/TorontoTrafficTrendsSpeedVolumeInsights2020-2024/Story1?:language=en-US&:display_count=yes&:toolbar=yes&tabs=no\n"
   ]
  }
 ],
 "metadata": {
  "kernelspec": {
   "display_name": "dsi_participant",
   "language": "python",
   "name": "python3"
  },
  "language_info": {
   "codemirror_mode": {
    "name": "ipython",
    "version": 3
   },
   "file_extension": ".py",
   "mimetype": "text/x-python",
   "name": "python",
   "nbconvert_exporter": "python",
   "pygments_lexer": "ipython3",
   "version": "3.9.20"
  }
 },
 "nbformat": 4,
 "nbformat_minor": 2
}
